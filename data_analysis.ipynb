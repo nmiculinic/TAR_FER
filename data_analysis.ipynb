{
 "cells": [
  {
   "cell_type": "code",
   "execution_count": 1,
   "metadata": {
    "collapsed": true
   },
   "outputs": [],
   "source": [
    "%matplotlib inline\n",
    "import seaborn"
   ]
  },
  {
   "cell_type": "code",
   "execution_count": null,
   "metadata": {
    "collapsed": true
   },
   "outputs": [],
   "source": []
  },
  {
   "cell_type": "code",
   "execution_count": 13,
   "metadata": {
    "collapsed": false
   },
   "outputs": [],
   "source": [
    "with open('data/train-en-en.in', 'r') as f:\n",
    "    length_sum = 0\n",
    "    length_count = 0\n",
    "    tokens_per_sentence = 0\n",
    "    tokens_per_sentence_length = 0\n",
    "    for line in f.readlines():\n",
    "        sentances = line.split('\\t')\n",
    "        sentance1 = sentances[0]\n",
    "        sentance2 = sentances[1]\n",
    "        length_sum += len(sentance1) + len(sentance2)\n",
    "        length_count += 1\n",
    "        tokens_per_sentence += len(sentance1.split(' ')) + len(sentance2.split(' '))\n",
    "        tokens_per_sentence_length += 2"
   ]
  },
  {
   "cell_type": "code",
   "execution_count": 14,
   "metadata": {
    "collapsed": false
   },
   "outputs": [
    {
     "name": "stdout",
     "output_type": "stream",
     "text": [
      "Average tokens per sentance:  8.702\n",
      "Average sentance length:  87.676\n"
     ]
    }
   ],
   "source": [
    "print(\"Average tokens per sentance: \", tokens_per_sentence/tokens_per_sentence_length)\n",
    "print(\"Average sentance length: \", length_sum/length_count)"
   ]
  }
 ],
 "metadata": {
  "anaconda-cloud": {},
  "kernelspec": {
   "display_name": "Python [conda root]",
   "language": "python",
   "name": "conda-root-py"
  },
  "language_info": {
   "codemirror_mode": {
    "name": "ipython",
    "version": 3
   },
   "file_extension": ".py",
   "mimetype": "text/x-python",
   "name": "python",
   "nbconvert_exporter": "python",
   "pygments_lexer": "ipython3",
   "version": "3.5.2"
  }
 },
 "nbformat": 4,
 "nbformat_minor": 1
}
